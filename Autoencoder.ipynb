{
 "cells": [
  {
   "cell_type": "markdown",
   "metadata": {},
   "source": [
    "导入必须要的库函数"
   ]
  },
  {
   "cell_type": "code",
   "execution_count": 21,
   "metadata": {
    "collapsed": true
   },
   "outputs": [],
   "source": [
    "# -*-conding:utf-8-*-\n",
    "import tensorflow as tf\n",
    "from tensorflow.examples.tutorials.mnist import input_data\n",
    "import matplotlib.pyplot as plt\n",
    "import numpy as np\n",
    "%matplotlib inline"
   ]
  },
  {
   "cell_type": "markdown",
   "metadata": {},
   "source": [
    "导入训练和测试数据集"
   ]
  },
  {
   "cell_type": "code",
   "execution_count": 22,
   "metadata": {},
   "outputs": [
    {
     "name": "stdout",
     "output_type": "stream",
     "text": [
      "Extracting MNIST_data\\train-images-idx3-ubyte.gz\n",
      "Extracting MNIST_data\\train-labels-idx1-ubyte.gz\n",
      "Extracting MNIST_data\\t10k-images-idx3-ubyte.gz\n",
      "Extracting MNIST_data\\t10k-labels-idx1-ubyte.gz\n",
      "数据导入完成。\n"
     ]
    }
   ],
   "source": [
    "mnist = input_data.read_data_sets('MNIST_data', one_hot = True)\n",
    "print (u'数据导入完成。')"
   ]
  },
  {
   "cell_type": "markdown",
   "metadata": {},
   "source": [
    "探索训练数据集"
   ]
  },
  {
   "cell_type": "code",
   "execution_count": 23,
   "metadata": {},
   "outputs": [
    {
     "name": "stdout",
     "output_type": "stream",
     "text": [
      "(784,)\n",
      "(28, 28)\n"
     ]
    },
    {
     "data": {
      "text/plain": [
       "<matplotlib.image.AxesImage at 0x29a846b3198>"
      ]
     },
     "execution_count": 23,
     "metadata": {},
     "output_type": "execute_result"
    },
    {
     "data": {
      "image/png": "[encoded data removed]",
      "text/plain": [
       "<matplotlib.figure.Figure at 0x29a846a8400>"
      ]
     },
     "metadata": {},
     "output_type": "display_data"
    }
   ],
   "source": [
    "img = mnist.train.images[20]\n",
    "print (img.shape)\n",
    "img = img.reshape((28,28))\n",
    "print (img.shape)\n",
    "plt.imshow(img)"
   ]
  },
  {
   "cell_type": "markdown",
   "metadata": {},
   "source": [
    "定义输入和输出"
   ]
  },
  {
   "cell_type": "code",
   "execution_count": 24,
   "metadata": {
    "collapsed": true
   },
   "outputs": [],
   "source": [
    "x = tf.placeholder(tf.float32, (None, 28, 28, 1), name = 'input')\n",
    "y = tf.placeholder(tf.float32,(None, 28, 28, 1), name = 'labels')"
   ]
  },
  {
   "cell_type": "markdown",
   "metadata": {},
   "source": [
    "定义权重和偏至"
   ]
  },
  {
   "cell_type": "code",
   "execution_count": 25,
   "metadata": {
    "collapsed": true
   },
   "outputs": [],
   "source": [
    "weights = {\n",
    "    'conv1':tf.Variable(tf.truncated_normal([3, 3, 1, 64],stddev = 0.1)),\n",
    "    'conv2':tf.Variable(tf.truncated_normal([3, 3, 64, 64],stddev = 0.1)),\n",
    "    'conv3':tf.Variable(tf.truncated_normal([3, 3, 64, 32],stddev = 0.1)),\n",
    "    'conv4':tf.Variable(tf.truncated_normal([3, 3, 32, 32],stddev = 0.1)),\n",
    "    'conv5':tf.Variable(tf.truncated_normal([3, 3, 32, 64],stddev = 0.1)),\n",
    "    'conv6':tf.Variable(tf.truncated_normal([3, 3, 64, 64],stddev = 0.1)),\n",
    "    'output':tf.Variable(tf.truncated_normal([3, 3, 64, 1],stddev = 0.1))\n",
    "}\n",
    "\n",
    "biases = {\n",
    "    'b1':tf.Variable(tf.zeros([64])),\n",
    "    'b2':tf.Variable(tf.zeros([64])),\n",
    "    'b3':tf.Variable(tf.zeros([32])),\n",
    "    'b4':tf.Variable(tf.zeros([32])),\n",
    "    'b5':tf.Variable(tf.zeros([64])),\n",
    "    'b6':tf.Variable(tf.zeros([64])),\n",
    "    'b_output':tf.Variable(tf.zeros([1]))\n",
    "}"
   ]
  },
  {
   "cell_type": "markdown",
   "metadata": {},
   "source": [
    "定义卷积函数"
   ]
  },
  {
   "cell_type": "code",
   "execution_count": 26,
   "metadata": {
    "collapsed": true
   },
   "outputs": [],
   "source": [
    "def conv2d(x, Weight, bias):\n",
    "    x = tf.nn.conv2d(x, Weight, strides = [1,1,1,1], padding='SAME')\n",
    "    x = tf.nn.bias_add(x, bias)\n",
    "    x = tf.nn.relu(x)\n",
    "    return x"
   ]
  },
  {
   "cell_type": "markdown",
   "metadata": {},
   "source": [
    "定义池化函数"
   ]
  },
  {
   "cell_type": "code",
   "execution_count": 27,
   "metadata": {
    "collapsed": true
   },
   "outputs": [],
   "source": [
    "def maxpooling2d(x):\n",
    "    return tf.nn.max_pool(x, ksize = [1,2,2,1], \n",
    "                          strides = [1,2,2,1], padding = 'SAME')"
   ]
  },
  {
   "cell_type": "markdown",
   "metadata": {},
   "source": [
    "定义Upsamping函数"
   ]
  },
  {
   "cell_type": "code",
   "execution_count": 28,
   "metadata": {
    "collapsed": true
   },
   "outputs": [],
   "source": [
    "def upsampling(x, height, width):\n",
    "    return tf.image.resize_nearest_neighbor(x, [height, width])"
   ]
  },
  {
   "cell_type": "markdown",
   "metadata": {},
   "source": [
    "定义卷积网络"
   ]
  },
  {
   "cell_type": "code",
   "execution_count": 30,
   "metadata": {
    "collapsed": true
   },
   "outputs": [],
   "source": [
    "def conv_net(x, weights, biases):\n",
    "    conv1 = conv2d(x, weights['conv1'], biases['b1'])\n",
    "    conv1 = maxpooling2d(conv1)\n",
    "\n",
    "    conv2 = conv2d(conv1, weights['conv2'], biases['b2'])\n",
    "    conv2 = maxpooling2d(conv2)\n",
    "    \n",
    "    conv3 = conv2d(conv2, weights['conv3'], biases['b3'])\n",
    "    conv3 = maxpooling2d(conv3)\n",
    "    \n",
    "    conv4 = upsampling(conv3, 7, 7)\n",
    "    conv4 = conv2d(conv4, weights['conv4'], biases['b4'])\n",
    "    \n",
    "    conv5 = upsampling(conv4, 14,14)\n",
    "    conv5 = conv2d(conv5, weights['conv5'], biases['b5'])\n",
    "    \n",
    "    conv6 = upsampling(conv5, 28,28)\n",
    "    conv6 = conv2d(conv6, weights['conv6'], biases['b6'])\n",
    "    \n",
    "    output = tf.nn.conv2d(conv6, weights['output'], strides = [1,1,1,1], padding ='SAME')\n",
    "    output = tf.nn.bias_add(output, biases['b_output'])\n",
    "    return output"
   ]
  },
  {
   "cell_type": "markdown",
   "metadata": {},
   "source": [
    "定义损失和优化"
   ]
  },
  {
   "cell_type": "code",
   "execution_count": 31,
   "metadata": {
    "collapsed": true,
    "scrolled": false
   },
   "outputs": [],
   "source": [
    "logits = conv_net(x, weights, biases)\n",
    "out_put = tf.nn.sigmoid(logits, name = 'out_put')\n",
    "cost = tf.reduce_mean(tf.nn.sigmoid_cross_entropy_with_logits(labels = y, logits = logits))\n",
    "\n",
    "optimizer = tf.train.AdamOptimizer(learning_rate = 0.001).minimize(cost)"
   ]
  },
  {
   "cell_type": "markdown",
   "metadata": {},
   "source": [
    "训练卷积网络"
   ]
  },
  {
   "cell_type": "code",
   "execution_count": 32,
   "metadata": {
    "scrolled": false
   },
   "outputs": [
    {
     "name": "stdout",
     "output_type": "stream",
     "text": [
      "Epoch: 1/2 Batch: 0 Trianing loss: 0.9855\n",
      "Epoch: 1/2 Batch: 10 Trianing loss: 0.3476\n",
      "Epoch: 1/2 Batch: 20 Trianing loss: 0.2645\n",
      "Epoch: 1/2 Batch: 30 Trianing loss: 0.2466\n",
      "Epoch: 1/2 Batch: 40 Trianing loss: 0.2399\n",
      "Epoch: 1/2 Batch: 50 Trianing loss: 0.2255\n",
      "Epoch: 1/2 Batch: 60 Trianing loss: 0.2173\n",
      "Epoch: 1/2 Batch: 70 Trianing loss: 0.2029\n",
      "Epoch: 1/2 Batch: 80 Trianing loss: 0.2018\n",
      "Epoch: 1/2 Batch: 90 Trianing loss: 0.1940\n",
      "Epoch: 1/2 Batch: 100 Trianing loss: 0.1773\n",
      "Epoch: 1/2 Batch: 110 Trianing loss: 0.1851\n",
      "Epoch: 1/2 Batch: 120 Trianing loss: 0.1767\n",
      "Epoch: 1/2 Batch: 130 Trianing loss: 0.1739\n",
      "Epoch: 1/2 Batch: 140 Trianing loss: 0.1832\n",
      "Epoch: 1/2 Batch: 150 Trianing loss: 0.1716\n",
      "Epoch: 1/2 Batch: 160 Trianing loss: 0.1662\n",
      "Epoch: 1/2 Batch: 170 Trianing loss: 0.1654\n",
      "Epoch: 1/2 Batch: 180 Trianing loss: 0.1591\n",
      "Epoch: 1/2 Batch: 190 Trianing loss: 0.1608\n",
      "Epoch: 1/2 Batch: 200 Trianing loss: 0.1684\n",
      "Epoch: 1/2 Batch: 210 Trianing loss: 0.1660\n",
      "Epoch: 1/2 Batch: 220 Trianing loss: 0.1675\n",
      "Epoch: 1/2 Batch: 230 Trianing loss: 0.1704\n",
      "Epoch: 1/2 Batch: 240 Trianing loss: 0.1602\n",
      "Epoch: 1/2 Batch: 250 Trianing loss: 0.1573\n",
      "Epoch: 1/2 Batch: 260 Trianing loss: 0.1546\n",
      "Epoch: 1/2 Batch: 270 Trianing loss: 0.1470\n",
      "Epoch: 1/2 Batch: 280 Trianing loss: 0.1526\n",
      "Epoch: 1/2 Batch: 290 Trianing loss: 0.1439\n",
      "Epoch: 1/2 Batch: 300 Trianing loss: 0.1539\n",
      "Epoch: 1/2 Batch: 310 Trianing loss: 0.1567\n",
      "Epoch: 1/2 Batch: 320 Trianing loss: 0.1553\n",
      "Epoch: 1/2 Batch: 330 Trianing loss: 0.1489\n",
      "Epoch: 1/2 Batch: 340 Trianing loss: 0.1512\n",
      "Epoch: 1/2 Batch: 350 Trianing loss: 0.1495\n",
      "Epoch: 1/2 Batch: 360 Trianing loss: 0.1489\n",
      "Epoch: 1/2 Batch: 370 Trianing loss: 0.1418\n",
      "Epoch: 1/2 Batch: 380 Trianing loss: 0.1498\n",
      "Epoch: 1/2 Batch: 390 Trianing loss: 0.1478\n",
      "Epoch: 1/2 Batch: 400 Trianing loss: 0.1452\n",
      "Epoch: 1/2 Batch: 410 Trianing loss: 0.1510\n",
      "Epoch: 1/2 Batch: 420 Trianing loss: 0.1633\n",
      "Epoch: 2/2 Batch: 0 Trianing loss: 0.1505\n",
      "Epoch: 2/2 Batch: 10 Trianing loss: 0.1398\n",
      "Epoch: 2/2 Batch: 20 Trianing loss: 0.1466\n",
      "Epoch: 2/2 Batch: 30 Trianing loss: 0.1441\n",
      "Epoch: 2/2 Batch: 40 Trianing loss: 0.1367\n",
      "Epoch: 2/2 Batch: 50 Trianing loss: 0.1361\n",
      "Epoch: 2/2 Batch: 60 Trianing loss: 0.1327\n",
      "Epoch: 2/2 Batch: 70 Trianing loss: 0.1387\n",
      "Epoch: 2/2 Batch: 80 Trianing loss: 0.1330\n",
      "Epoch: 2/2 Batch: 90 Trianing loss: 0.1372\n",
      "Epoch: 2/2 Batch: 100 Trianing loss: 0.1325\n",
      "Epoch: 2/2 Batch: 110 Trianing loss: 0.1366\n",
      "Epoch: 2/2 Batch: 120 Trianing loss: 0.1350\n",
      "Epoch: 2/2 Batch: 130 Trianing loss: 0.1311\n",
      "Epoch: 2/2 Batch: 140 Trianing loss: 0.1335\n",
      "Epoch: 2/2 Batch: 150 Trianing loss: 0.1333\n",
      "Epoch: 2/2 Batch: 160 Trianing loss: 0.1363\n",
      "Epoch: 2/2 Batch: 170 Trianing loss: 0.1335\n",
      "Epoch: 2/2 Batch: 180 Trianing loss: 0.1427\n",
      "Epoch: 2/2 Batch: 190 Trianing loss: 0.1338\n",
      "Epoch: 2/2 Batch: 200 Trianing loss: 0.1309\n",
      "Epoch: 2/2 Batch: 210 Trianing loss: 0.1303\n",
      "Epoch: 2/2 Batch: 220 Trianing loss: 0.1323\n",
      "Epoch: 2/2 Batch: 230 Trianing loss: 0.1308\n",
      "Epoch: 2/2 Batch: 240 Trianing loss: 0.1278\n",
      "Epoch: 2/2 Batch: 250 Trianing loss: 0.1326\n",
      "Epoch: 2/2 Batch: 260 Trianing loss: 0.1272\n",
      "Epoch: 2/2 Batch: 270 Trianing loss: 0.1263\n",
      "Epoch: 2/2 Batch: 280 Trianing loss: 0.1260\n",
      "Epoch: 2/2 Batch: 290 Trianing loss: 0.1249\n",
      "Epoch: 2/2 Batch: 300 Trianing loss: 0.1311\n",
      "Epoch: 2/2 Batch: 310 Trianing loss: 0.1270\n",
      "Epoch: 2/2 Batch: 320 Trianing loss: 0.1304\n",
      "Epoch: 2/2 Batch: 330 Trianing loss: 0.1204\n",
      "Epoch: 2/2 Batch: 340 Trianing loss: 0.1210\n",
      "Epoch: 2/2 Batch: 350 Trianing loss: 0.1289\n",
      "Epoch: 2/2 Batch: 360 Trianing loss: 0.1280\n",
      "Epoch: 2/2 Batch: 370 Trianing loss: 0.1201\n",
      "Epoch: 2/2 Batch: 380 Trianing loss: 0.1288\n",
      "Epoch: 2/2 Batch: 390 Trianing loss: 0.1286\n",
      "Epoch: 2/2 Batch: 400 Trianing loss: 0.1300\n",
      "Epoch: 2/2 Batch: 410 Trianing loss: 0.1264\n",
      "Epoch: 2/2 Batch: 420 Trianing loss: 0.1287\n"
     ]
    }
   ],
   "source": [
    "epochs = 2\n",
    "batch_size = 128\n",
    "\n",
    "init = tf.global_variables_initializer()\n",
    "\n",
    "sess = tf.Session()\n",
    "sess.run(init)\n",
    "\n",
    "for epoch in range(epochs):\n",
    "    for i in range(mnist.train.num_examples//batch_size):\n",
    "        batch = mnist.train.next_batch(batch_size)\n",
    "        imgs = batch[0].reshape((-1, 28, 28, 1))\n",
    "        noisy_imgs = imgs + 0.5*np.random.randn(*imgs.shape)\n",
    "        noisy_imgs = np.clip(noisy_imgs, 0., 1.)\n",
    "        batch_cost, _ = sess.run([cost,optimizer], feed_dict={x:noisy_imgs, y:imgs})\n",
    "        if i % 10 == 0:\n",
    "            print ('Epoch: {}/{} Batch: {}'.format(epoch+1, epochs, i),'Trianing loss: {:.4f}'.format(batch_cost))"
   ]
  },
  {
   "cell_type": "markdown",
   "metadata": {},
   "source": [
    "保存参数"
   ]
  },
  {
   "cell_type": "code",
   "execution_count": 33,
   "metadata": {},
   "outputs": [
    {
     "data": {
      "text/plain": [
       "'./model.ckpt'"
      ]
     },
     "execution_count": 33,
     "metadata": {},
     "output_type": "execute_result"
    }
   ],
   "source": [
    "save_file = './model.ckpt'\n",
    "saver = tf.train.Saver()\n",
    "saver.save(sess, save_file)"
   ]
  },
  {
   "cell_type": "markdown",
   "metadata": {},
   "source": [
    "用10个测试集验证训练结果"
   ]
  },
  {
   "cell_type": "code",
   "execution_count": 34,
   "metadata": {},
   "outputs": [
    {
     "data": {
      "text/plain": [
       "<matplotlib.image.AxesImage at 0x29a87ee5080>"
      ]
     },
     "execution_count": 34,
     "metadata": {},
     "output_type": "execute_result"
    },
    {
     "data": {
      "image/png": "[encoded data removed]",
      "text/plain": [
       "<matplotlib.figure.Figure at 0x29a85a48710>"
      ]
     },
     "metadata": {},
     "output_type": "display_data"
    }
   ],
   "source": [
    "test_imgs = mnist.test.images[20:30]\n",
    "test_imgs = test_imgs.reshape((-1, 28, 28, 1))\n",
    "plt.subplot(121)\n",
    "plt.imshow(test_imgs[0].reshape((28,28)))\n",
    "noisy_imgs = test_imgs + 0.5*np.random.randn(*test_imgs.shape)\n",
    "noisy_imgs = np.clip(noisy_imgs, 0., 1.)\n",
    "plt.subplot(122)\n",
    "plt.imshow(noisy_imgs[0].reshape((28,28)))"
   ]
  },
  {
   "cell_type": "code",
   "execution_count": 35,
   "metadata": {},
   "outputs": [
    {
     "data": {
      "image/png": "[encoded data removed]",
      "text/plain": [
       "<matplotlib.figure.Figure at 0x29a8323ebe0>"
      ]
     },
     "metadata": {},
     "output_type": "display_data"
    }
   ],
   "source": [
    "fig, axes = plt.subplots(nrows=2, ncols=10, sharex=True, sharey=True, figsize=(20,4))\n",
    "\n",
    "reconstructed = sess.run(out_put, feed_dict={x:noisy_imgs})\n",
    "\n",
    "for images, row in zip([noisy_imgs, reconstructed], axes):\n",
    "    for img, ax in zip(images, row):\n",
    "        ax.imshow(img.reshape((28, 28)))\n",
    "        ax.get_xaxis().set_visible(False)\n",
    "        ax.get_yaxis().set_visible(False)\n",
    "\n",
    "fig.tight_layout(pad=0.1)"
   ]
  },
  {
   "cell_type": "code",
   "execution_count": null,
   "metadata": {
    "collapsed": true
   },
   "outputs": [],
   "source": []
  }
 ],
 "metadata": {
  "kernelspec": {
   "display_name": "Python 3",
   "language": "python",
   "name": "python3"
  },
  "language_info": {
   "codemirror_mode": {
    "name": "ipython",
    "version": 3
   },
   "file_extension": ".py",
   "mimetype": "text/x-python",
   "name": "python",
   "nbconvert_exporter": "python",
   "pygments_lexer": "ipython3",
   "version": "3.5.3"
  }
 },
 "nbformat": 4,
 "nbformat_minor": 2
}
